{
 "cells": [
  {
   "cell_type": "markdown",
   "id": "56c0d463",
   "metadata": {},
   "source": [
    "### Task #1: Perform imports and load the dataset into a pandas DataFrame"
   ]
  },
  {
   "cell_type": "code",
   "execution_count": 1,
   "id": "d9d0614a",
   "metadata": {},
   "outputs": [],
   "source": [
    "import pandas as pd"
   ]
  },
  {
   "cell_type": "code",
   "execution_count": 2,
   "id": "eb35a001",
   "metadata": {},
   "outputs": [],
   "source": [
    "df = pd.read_csv('Language Detection.csv')"
   ]
  },
  {
   "cell_type": "code",
   "execution_count": 3,
   "id": "150f973c",
   "metadata": {},
   "outputs": [
    {
     "data": {
      "text/html": [
       "<div>\n",
       "<style scoped>\n",
       "    .dataframe tbody tr th:only-of-type {\n",
       "        vertical-align: middle;\n",
       "    }\n",
       "\n",
       "    .dataframe tbody tr th {\n",
       "        vertical-align: top;\n",
       "    }\n",
       "\n",
       "    .dataframe thead th {\n",
       "        text-align: right;\n",
       "    }\n",
       "</style>\n",
       "<table border=\"1\" class=\"dataframe\">\n",
       "  <thead>\n",
       "    <tr style=\"text-align: right;\">\n",
       "      <th></th>\n",
       "      <th>Text</th>\n",
       "      <th>Language</th>\n",
       "    </tr>\n",
       "  </thead>\n",
       "  <tbody>\n",
       "    <tr>\n",
       "      <th>0</th>\n",
       "      <td>Nature, in the broadest sense, is the natural...</td>\n",
       "      <td>English</td>\n",
       "    </tr>\n",
       "    <tr>\n",
       "      <th>1</th>\n",
       "      <td>\"Nature\" can refer to the phenomena of the phy...</td>\n",
       "      <td>English</td>\n",
       "    </tr>\n",
       "    <tr>\n",
       "      <th>2</th>\n",
       "      <td>The study of nature is a large, if not the onl...</td>\n",
       "      <td>English</td>\n",
       "    </tr>\n",
       "    <tr>\n",
       "      <th>3</th>\n",
       "      <td>Although humans are part of nature, human acti...</td>\n",
       "      <td>English</td>\n",
       "    </tr>\n",
       "    <tr>\n",
       "      <th>4</th>\n",
       "      <td>[1] The word nature is borrowed from the Old F...</td>\n",
       "      <td>English</td>\n",
       "    </tr>\n",
       "  </tbody>\n",
       "</table>\n",
       "</div>"
      ],
      "text/plain": [
       "                                                Text Language\n",
       "0   Nature, in the broadest sense, is the natural...  English\n",
       "1  \"Nature\" can refer to the phenomena of the phy...  English\n",
       "2  The study of nature is a large, if not the onl...  English\n",
       "3  Although humans are part of nature, human acti...  English\n",
       "4  [1] The word nature is borrowed from the Old F...  English"
      ]
     },
     "execution_count": 3,
     "metadata": {},
     "output_type": "execute_result"
    }
   ],
   "source": [
    "df.head()"
   ]
  },
  {
   "cell_type": "markdown",
   "id": "1252e4a3",
   "metadata": {},
   "source": [
    "### Task #2: Check for missing values:"
   ]
  },
  {
   "cell_type": "code",
   "execution_count": 4,
   "id": "ec7582c9",
   "metadata": {},
   "outputs": [
    {
     "data": {
      "text/plain": [
       "Text        0\n",
       "Language    0\n",
       "dtype: int64"
      ]
     },
     "execution_count": 4,
     "metadata": {},
     "output_type": "execute_result"
    }
   ],
   "source": [
    "df.isnull().sum()"
   ]
  },
  {
   "cell_type": "markdown",
   "id": "99cba851",
   "metadata": {},
   "source": [
    "### Task #3: Check for different target labels:"
   ]
  },
  {
   "cell_type": "code",
   "execution_count": 6,
   "id": "d9324f5c",
   "metadata": {
    "scrolled": true
   },
   "outputs": [
    {
     "data": {
      "text/plain": [
       "English       1385\n",
       "French        1014\n",
       "Spanish        819\n",
       "Portugeese     739\n",
       "Italian        698\n",
       "Russian        692\n",
       "Sweedish       676\n",
       "Malayalam      594\n",
       "Dutch          546\n",
       "Arabic         536\n",
       "Turkish        474\n",
       "German         470\n",
       "Tamil          469\n",
       "Danish         428\n",
       "Kannada        369\n",
       "Greek          365\n",
       "Hindi           63\n",
       "Name: Language, dtype: int64"
      ]
     },
     "execution_count": 6,
     "metadata": {},
     "output_type": "execute_result"
    }
   ],
   "source": [
    "df['Language'].value_counts()"
   ]
  },
  {
   "cell_type": "markdown",
   "id": "661455ce",
   "metadata": {},
   "source": [
    "### Task #4: Split the data into train & test sets:"
   ]
  },
  {
   "cell_type": "code",
   "execution_count": 7,
   "id": "04d2ad55",
   "metadata": {},
   "outputs": [],
   "source": [
    "X = df['Text']\n",
    "y = df['Language']"
   ]
  },
  {
   "cell_type": "code",
   "execution_count": 8,
   "id": "940a7c80",
   "metadata": {},
   "outputs": [
    {
     "name": "stderr",
     "output_type": "stream",
     "text": [
      "/home/pandey/anaconda3/envs/ml_project/lib/python3.7/site-packages/ipykernel_launcher.py:5: FutureWarning: Possible nested set at position 1\n",
      "  \"\"\"\n"
     ]
    }
   ],
   "source": [
    "import re\n",
    "data_list = []\n",
    "for text in X:\n",
    "    text = re.sub(r'[!@#$(),n\"%^*?:;~`0-9]', ' ', text)\n",
    "    text = re.sub(r'[[]]', ' ', text)\n",
    "    text = text.lower()\n",
    "    data_list.append(text)"
   ]
  },
  {
   "cell_type": "code",
   "execution_count": 9,
   "id": "e8216efd",
   "metadata": {},
   "outputs": [],
   "source": [
    "X = data_list"
   ]
  },
  {
   "cell_type": "code",
   "execution_count": 10,
   "id": "f44edf99",
   "metadata": {},
   "outputs": [],
   "source": [
    "from sklearn.model_selection import train_test_split\n",
    "\n",
    "X_train, X_test, y_train, y_test = train_test_split(X, y, test_size=0.33, random_state=42)"
   ]
  },
  {
   "cell_type": "code",
   "execution_count": 11,
   "id": "e0ba050e",
   "metadata": {},
   "outputs": [
    {
     "data": {
      "text/plain": [
       "6925"
      ]
     },
     "execution_count": 11,
     "metadata": {},
     "output_type": "execute_result"
    }
   ],
   "source": [
    "len(X_train)"
   ]
  },
  {
   "cell_type": "code",
   "execution_count": 12,
   "id": "b358f30c",
   "metadata": {},
   "outputs": [
    {
     "data": {
      "text/plain": [
       "3412"
      ]
     },
     "execution_count": 12,
     "metadata": {},
     "output_type": "execute_result"
    }
   ],
   "source": [
    "len(X_test)"
   ]
  },
  {
   "cell_type": "markdown",
   "id": "45ceddae",
   "metadata": {},
   "source": [
    "### Task #5: Build a pipeline to vectorize the date, then train and fit a model"
   ]
  },
  {
   "cell_type": "code",
   "execution_count": 13,
   "id": "f7d62063",
   "metadata": {},
   "outputs": [
    {
     "data": {
      "text/plain": [
       "Pipeline(steps=[('tfidf', TfidfVectorizer()), ('clf', LinearSVC())])"
      ]
     },
     "execution_count": 13,
     "metadata": {},
     "output_type": "execute_result"
    }
   ],
   "source": [
    "from sklearn.pipeline import Pipeline\n",
    "from sklearn.feature_extraction.text import TfidfVectorizer\n",
    "from sklearn.svm import LinearSVC\n",
    "\n",
    "lang_clf = Pipeline([('tfidf', TfidfVectorizer()), ('clf', LinearSVC())])\n",
    "\n",
    "lang_clf.fit(X_train, y_train)"
   ]
  },
  {
   "cell_type": "code",
   "execution_count": 14,
   "id": "78c7e91a",
   "metadata": {},
   "outputs": [],
   "source": [
    "Predictions = lang_clf.predict(X_test)"
   ]
  },
  {
   "cell_type": "markdown",
   "id": "d40ed391",
   "metadata": {},
   "source": [
    "### Task #6: Run predictions and analyze the results"
   ]
  },
  {
   "cell_type": "code",
   "execution_count": 15,
   "id": "dfbde218",
   "metadata": {},
   "outputs": [],
   "source": [
    "from sklearn.metrics import confusion_matrix, classification_report, accuracy_score"
   ]
  },
  {
   "cell_type": "code",
   "execution_count": 16,
   "id": "9a2509db",
   "metadata": {},
   "outputs": [
    {
     "name": "stdout",
     "output_type": "stream",
     "text": [
      "[[178   0   0   0   0   0   0   0   0   0   0   0   4   0   0   0   0]\n",
      " [  0 129   0   1   1   2   0   0   1   0   0   1   2   0   2   0   0]\n",
      " [  0   0 181   0   1   1   0   0   0   0   0   0   3   1   0   0   0]\n",
      " [  0   0   0 477   0   1   0   0   4   0   0   0   3   1   0   0   0]\n",
      " [  0   0   1   2 331   0   0   0   2   0   0   0   3   1   0   0   0]\n",
      " [  0   2   0   0   0 141   0   0   0   0   0   0   3   0   0   0   1]\n",
      " [  0   0   0   1   0   0 107   0   0   0   0   0   4   0   0   0   0]\n",
      " [  0   0   0   0   0   0   0  20   0   0   0   0   0   0   0   0   0]\n",
      " [  0   0   0   3   0   0   0   0 229   0   0   0   0   5   0   0   0]\n",
      " [  0   0   0   0   0   0   0   0   0 107   0   0   2   0   0   0   0]\n",
      " [  0   0   0   1   0   0   0   0   0   0 195   0   4   0   0   0   0]\n",
      " [  0   0   0   1   0   0   0   0   1   0   0 230   2   7   0   0   0]\n",
      " [  0   0   0   0   0   0   0   0   0   0   0   0 217   0   0   0   0]\n",
      " [  0   0   0   2   0   0   0   0   0   0   1   2   3 260   0   0   1]\n",
      " [  0   4   0   3   0   0   0   0   0   0   0   0   3   2 203   0   0]\n",
      " [  0   0   0   0   0   0   0   0   0   0   0   0   3   0   0 152   0]\n",
      " [  0   0   0   0   3   1   0   0   1   0   0   0   6   1   1   0 143]]\n"
     ]
    }
   ],
   "source": [
    "print(confusion_matrix(y_test, Predictions))"
   ]
  },
  {
   "cell_type": "code",
   "execution_count": 17,
   "id": "6c7b537a",
   "metadata": {},
   "outputs": [
    {
     "name": "stdout",
     "output_type": "stream",
     "text": [
      "              precision    recall  f1-score   support\n",
      "\n",
      "      Arabic       1.00      0.98      0.99       182\n",
      "      Danish       0.96      0.93      0.94       139\n",
      "       Dutch       0.99      0.97      0.98       187\n",
      "     English       0.97      0.98      0.98       486\n",
      "      French       0.99      0.97      0.98       340\n",
      "      German       0.97      0.96      0.96       147\n",
      "       Greek       1.00      0.96      0.98       112\n",
      "       Hindi       1.00      1.00      1.00        20\n",
      "     Italian       0.96      0.97      0.96       237\n",
      "     Kannada       1.00      0.98      0.99       109\n",
      "   Malayalam       0.99      0.97      0.98       200\n",
      "  Portugeese       0.99      0.95      0.97       241\n",
      "     Russian       0.83      1.00      0.91       217\n",
      "     Spanish       0.94      0.97      0.95       269\n",
      "    Sweedish       0.99      0.94      0.96       215\n",
      "       Tamil       1.00      0.98      0.99       155\n",
      "     Turkish       0.99      0.92      0.95       156\n",
      "\n",
      "    accuracy                           0.97      3412\n",
      "   macro avg       0.97      0.97      0.97      3412\n",
      "weighted avg       0.97      0.97      0.97      3412\n",
      "\n"
     ]
    }
   ],
   "source": [
    "print(classification_report(y_test, Predictions))"
   ]
  },
  {
   "cell_type": "code",
   "execution_count": 18,
   "id": "cb72dd22",
   "metadata": {},
   "outputs": [
    {
     "name": "stdout",
     "output_type": "stream",
     "text": [
      "0.9671746776084408\n"
     ]
    }
   ],
   "source": [
    "print(accuracy_score(y_test, Predictions))"
   ]
  },
  {
   "cell_type": "markdown",
   "id": "2b7dfc09",
   "metadata": {},
   "source": [
    "### Task #7: Now, Test with random input language phrase - \"Hi, How are you?\""
   ]
  },
  {
   "cell_type": "code",
   "execution_count": 19,
   "id": "b37575a9",
   "metadata": {},
   "outputs": [
    {
     "data": {
      "text/plain": [
       "array(['Arabic'], dtype=object)"
      ]
     },
     "execution_count": 19,
     "metadata": {},
     "output_type": "execute_result"
    }
   ],
   "source": [
    "# Arabic\n",
    "lang_clf.predict([\"مرحبا كيف حالك؟\"])"
   ]
  },
  {
   "cell_type": "code",
   "execution_count": 20,
   "id": "c37a473f",
   "metadata": {},
   "outputs": [
    {
     "data": {
      "text/plain": [
       "array(['Sweedish'], dtype=object)"
      ]
     },
     "execution_count": 20,
     "metadata": {},
     "output_type": "execute_result"
    }
   ],
   "source": [
    "# Danish\n",
    "lang_clf.predict([\"Hej hvordan går det?\"])\n"
   ]
  },
  {
   "cell_type": "code",
   "execution_count": 21,
   "id": "1c1c16ce",
   "metadata": {},
   "outputs": [
    {
     "data": {
      "text/plain": [
       "array(['Dutch'], dtype=object)"
      ]
     },
     "execution_count": 21,
     "metadata": {},
     "output_type": "execute_result"
    }
   ],
   "source": [
    "# Dutch\n",
    "lang_clf.predict([\"Hallo hoe gaat het?\"])"
   ]
  },
  {
   "cell_type": "code",
   "execution_count": 22,
   "id": "90e3ddaf",
   "metadata": {},
   "outputs": [
    {
     "data": {
      "text/plain": [
       "array(['English'], dtype=object)"
      ]
     },
     "execution_count": 22,
     "metadata": {},
     "output_type": "execute_result"
    }
   ],
   "source": [
    "# English\n",
    "lang_clf.predict([\"Hi, how are you?\"])"
   ]
  },
  {
   "cell_type": "code",
   "execution_count": 23,
   "id": "7fc442ea",
   "metadata": {},
   "outputs": [
    {
     "data": {
      "text/plain": [
       "array(['French'], dtype=object)"
      ]
     },
     "execution_count": 23,
     "metadata": {},
     "output_type": "execute_result"
    }
   ],
   "source": [
    "# French\n",
    "lang_clf.predict([\"Salut comment ça va?\"])"
   ]
  },
  {
   "cell_type": "code",
   "execution_count": 24,
   "id": "2e0534bf",
   "metadata": {},
   "outputs": [
    {
     "data": {
      "text/plain": [
       "array(['German'], dtype=object)"
      ]
     },
     "execution_count": 24,
     "metadata": {},
     "output_type": "execute_result"
    }
   ],
   "source": [
    "# German\n",
    "lang_clf.predict([\"Hi, wie geht es dir?\"])"
   ]
  },
  {
   "cell_type": "code",
   "execution_count": 25,
   "id": "0cf3c462",
   "metadata": {},
   "outputs": [
    {
     "data": {
      "text/plain": [
       "array(['Greek'], dtype=object)"
      ]
     },
     "execution_count": 25,
     "metadata": {},
     "output_type": "execute_result"
    }
   ],
   "source": [
    "# Greek\n",
    "lang_clf.predict([\"Γεια πως εισαι?\"])"
   ]
  },
  {
   "cell_type": "code",
   "execution_count": 26,
   "id": "81d0d9cc",
   "metadata": {},
   "outputs": [
    {
     "data": {
      "text/plain": [
       "array(['Hindi'], dtype=object)"
      ]
     },
     "execution_count": 26,
     "metadata": {},
     "output_type": "execute_result"
    }
   ],
   "source": [
    "# Hindi\n",
    "lang_clf.predict([\"नमस्ते, आप कैसे हैं?\"])"
   ]
  },
  {
   "cell_type": "code",
   "execution_count": 27,
   "id": "15515034",
   "metadata": {},
   "outputs": [
    {
     "data": {
      "text/plain": [
       "array(['Italian'], dtype=object)"
      ]
     },
     "execution_count": 27,
     "metadata": {},
     "output_type": "execute_result"
    }
   ],
   "source": [
    "# Italian\n",
    "lang_clf.predict([\"Ciao, come stai?\"])"
   ]
  },
  {
   "cell_type": "code",
   "execution_count": 28,
   "id": "56e286e8",
   "metadata": {},
   "outputs": [
    {
     "data": {
      "text/plain": [
       "array(['Kannada'], dtype=object)"
      ]
     },
     "execution_count": 28,
     "metadata": {},
     "output_type": "execute_result"
    }
   ],
   "source": [
    "# Kannada\n",
    "lang_clf.predict([\"ನಮಸ್ಕಾರ ಹೇಗಿದ್ದೀರಾ?\"])"
   ]
  },
  {
   "cell_type": "code",
   "execution_count": 29,
   "id": "3942df16",
   "metadata": {},
   "outputs": [
    {
     "data": {
      "text/plain": [
       "array(['Russian'], dtype=object)"
      ]
     },
     "execution_count": 29,
     "metadata": {},
     "output_type": "execute_result"
    }
   ],
   "source": [
    "# Malayalam\n",
    "lang_clf.predict([\"ഹായ്, സുഖമാണോ?\"])"
   ]
  },
  {
   "cell_type": "code",
   "execution_count": 30,
   "id": "89381630",
   "metadata": {},
   "outputs": [
    {
     "data": {
      "text/plain": [
       "array(['Portugeese'], dtype=object)"
      ]
     },
     "execution_count": 30,
     "metadata": {},
     "output_type": "execute_result"
    }
   ],
   "source": [
    "# Portugeese\n",
    "lang_clf.predict([\"Oi como você está?\"])"
   ]
  },
  {
   "cell_type": "code",
   "execution_count": 31,
   "id": "69d2af7e",
   "metadata": {},
   "outputs": [
    {
     "data": {
      "text/plain": [
       "array(['Russian'], dtype=object)"
      ]
     },
     "execution_count": 31,
     "metadata": {},
     "output_type": "execute_result"
    }
   ],
   "source": [
    "# Russian\n",
    "lang_clf.predict([\"Привет, как ты?\"])"
   ]
  },
  {
   "cell_type": "code",
   "execution_count": 32,
   "id": "10b4d046",
   "metadata": {},
   "outputs": [
    {
     "data": {
      "text/plain": [
       "array(['Spanish'], dtype=object)"
      ]
     },
     "execution_count": 32,
     "metadata": {},
     "output_type": "execute_result"
    }
   ],
   "source": [
    "# Spanish\n",
    "lang_clf.predict([\"¿Hola, cómo estás?\"])"
   ]
  },
  {
   "cell_type": "code",
   "execution_count": 33,
   "id": "995602a7",
   "metadata": {},
   "outputs": [
    {
     "data": {
      "text/plain": [
       "array(['Sweedish'], dtype=object)"
      ]
     },
     "execution_count": 33,
     "metadata": {},
     "output_type": "execute_result"
    }
   ],
   "source": [
    "# Sweedish\n",
    "lang_clf.predict([\"Hej hur mår du?\"])"
   ]
  },
  {
   "cell_type": "code",
   "execution_count": 34,
   "id": "daeb0055",
   "metadata": {},
   "outputs": [
    {
     "data": {
      "text/plain": [
       "array(['Tamil'], dtype=object)"
      ]
     },
     "execution_count": 34,
     "metadata": {},
     "output_type": "execute_result"
    }
   ],
   "source": [
    "# Tamil\n",
    "lang_clf.predict([\"ஹாய், நீங்கள் எப்படி இருக்கிறீர்கள்?\"])"
   ]
  },
  {
   "cell_type": "code",
   "execution_count": 35,
   "id": "98d321d7",
   "metadata": {},
   "outputs": [
    {
     "data": {
      "text/plain": [
       "array(['Russian'], dtype=object)"
      ]
     },
     "execution_count": 35,
     "metadata": {},
     "output_type": "execute_result"
    }
   ],
   "source": [
    "# Turkish\n",
    "lang_clf.predict([\"Merhaba nasılsın?\"])"
   ]
  },
  {
   "cell_type": "code",
   "execution_count": null,
   "id": "6f9b8fb8",
   "metadata": {},
   "outputs": [],
   "source": []
  }
 ],
 "metadata": {
  "kernelspec": {
   "display_name": "Python 3",
   "language": "python",
   "name": "python3"
  },
  "language_info": {
   "codemirror_mode": {
    "name": "ipython",
    "version": 3
   },
   "file_extension": ".py",
   "mimetype": "text/x-python",
   "name": "python",
   "nbconvert_exporter": "python",
   "pygments_lexer": "ipython3",
   "version": "3.7.10"
  }
 },
 "nbformat": 4,
 "nbformat_minor": 5
}
